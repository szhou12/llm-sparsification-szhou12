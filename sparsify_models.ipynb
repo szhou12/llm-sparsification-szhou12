{
 "cells": [
  {
   "cell_type": "code",
   "execution_count": null,
   "metadata": {},
   "outputs": [],
   "source": [
    "import torch\n",
    "import numpy as np\n",
    "import pandas as pd\n",
    "from torch.nn.utils import prune"
   ]
  },
  {
   "cell_type": "code",
   "execution_count": null,
   "metadata": {},
   "outputs": [],
   "source": [
    "def get_weight_parameters(layer):\n",
    "    '''\n",
    "    Get all parameters/modules identified as 'weight'\n",
    "    '''\n",
    "    weight_parameters = []\n",
    "    if len(list(layer.children())) > 0:\n",
    "        for child in layer.children():\n",
    "            for param in child.named_parameters():\n",
    "                if 'weight' == param[0]:\n",
    "                    # print(param)\n",
    "                    weight_parameters.append((child, param[0]))\n",
    "            weight_parameters.extend(get_weight_parameters(child))\n",
    "    \n",
    "    \n",
    "    return weight_parameters\n",
    "\n",
    "\n",
    "def prune_weight_parameters(model, prune_amount):\n",
    "    '''\n",
    "    Global pruning\n",
    "    '''\n",
    "    weight_parameters = get_weight_parameters(model)\n",
    "\n",
    "    prune.global_unstructured(\n",
    "        weight_parameters, \n",
    "        pruning_method=prune.L1Unstructured, \n",
    "        amount=prune_amount,\n",
    "    )\n",
    "\n",
    "    for module, name in weight_parameters:\n",
    "        prune.remove(module, name)\n",
    "    return model"
   ]
  },
  {
   "cell_type": "markdown",
   "metadata": {},
   "source": [
    "## Sparsifying GPT-2"
   ]
  },
  {
   "cell_type": "code",
   "execution_count": null,
   "metadata": {},
   "outputs": [],
   "source": [
    "from transformers import GPT2Model\n",
    "gpt2_model = GPT2Model.from_pretrained(\"gpt2\")"
   ]
  }
 ],
 "metadata": {
  "kernelspec": {
   "display_name": "Python 3.8.8 ('base')",
   "language": "python",
   "name": "python3"
  },
  "language_info": {
   "name": "python",
   "version": "3.8.8"
  },
  "orig_nbformat": 4,
  "vscode": {
   "interpreter": {
    "hash": "40d3a090f54c6569ab1632332b64b2c03c39dcf918b08424e98f38b5ae0af88f"
   }
  }
 },
 "nbformat": 4,
 "nbformat_minor": 2
}
