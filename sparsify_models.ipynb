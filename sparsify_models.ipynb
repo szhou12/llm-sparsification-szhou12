{
 "cells": [
  {
   "cell_type": "code",
   "execution_count": 20,
   "metadata": {},
   "outputs": [],
   "source": [
    "from torch.nn.utils import prune\n",
    "import copy\n",
    "\n",
    "SPARSITY_LIST = [.1, .5, .9, .95, .99]"
   ]
  },
  {
   "cell_type": "code",
   "execution_count": 3,
   "metadata": {},
   "outputs": [],
   "source": [
    "def get_weight_parameters(layer):\n",
    "    '''\n",
    "    Get all parameters/modules identified as 'weight'\n",
    "    '''\n",
    "    weight_parameters = []\n",
    "    if len(list(layer.children())) > 0:\n",
    "        for child in layer.children():\n",
    "            for param in child.named_parameters():\n",
    "                if 'weight' == param[0]:\n",
    "                    # print(param)\n",
    "                    weight_parameters.append((child, param[0]))\n",
    "            weight_parameters.extend(get_weight_parameters(child))\n",
    "    \n",
    "    \n",
    "    return weight_parameters\n",
    "\n",
    "\n",
    "def prune_weight_parameters(model, prune_amount):\n",
    "    '''\n",
    "    Global pruning\n",
    "    '''\n",
    "    params_to_prune = get_weight_parameters(model)\n",
    "\n",
    "    prune.global_unstructured(\n",
    "        params_to_prune, \n",
    "        pruning_method=prune.L1Unstructured, \n",
    "        amount=prune_amount,\n",
    "    )\n",
    "\n",
    "    for module, name in params_to_prune:\n",
    "        try:\n",
    "            prune.remove(module, name)\n",
    "        except Exception as e:\n",
    "            print(e)\n",
    "    return model"
   ]
  },
  {
   "cell_type": "markdown",
   "metadata": {},
   "source": [
    "## Sparsifying RoBERTa, GPT-2, BART"
   ]
  },
  {
   "cell_type": "code",
   "execution_count": 1,
   "metadata": {},
   "outputs": [
    {
     "name": "stderr",
     "output_type": "stream",
     "text": [
      "Some weights of the model checkpoint at roberta-large were not used when initializing RobertaModel: ['lm_head.dense.weight', 'lm_head.dense.bias', 'lm_head.layer_norm.weight', 'lm_head.layer_norm.bias', 'lm_head.bias', 'lm_head.decoder.weight']\n",
      "- This IS expected if you are initializing RobertaModel from the checkpoint of a model trained on another task or with another architecture (e.g. initializing a BertForSequenceClassification model from a BertForPreTraining model).\n",
      "- This IS NOT expected if you are initializing RobertaModel from the checkpoint of a model that you expect to be exactly identical (initializing a BertForSequenceClassification model from a BertForSequenceClassification model).\n"
     ]
    }
   ],
   "source": [
    "from transformers import RobertaModel, GPT2Model, BartModel\n",
    "roberta_model = RobertaModel.from_pretrained(\"roberta-large\")\n",
    "gpt2_model = GPT2Model.from_pretrained(\"gpt2\")\n",
    "bart_model = BartModel.from_pretrained(\"facebook/bart-large\")"
   ]
  },
  {
   "cell_type": "code",
   "execution_count": 21,
   "metadata": {},
   "outputs": [],
   "source": [
    "model_list = [(\"roberta\", roberta_model), (\"gpt2\", gpt2_model), (\"bart\", bart_model)]\n",
    "\n",
    "for name, model in model_list:\n",
    "    for sparsity in SPARSITY_LIST:\n",
    "        model_to_prune = copy.deepcopy(model)\n",
    "        pruned_model = prune_weight_parameters(model_to_prune, sparsity)\n",
    "        pruned_model.save_pretrained(f\"models/{name}_{sparsity}\")\n"
   ]
  },
  {
   "cell_type": "markdown",
   "metadata": {},
   "source": [
    "## Sparsifying GPT-2 for GLUE"
   ]
  },
  {
   "cell_type": "code",
   "execution_count": 22,
   "metadata": {},
   "outputs": [
    {
     "data": {
      "application/vnd.jupyter.widget-view+json": {
       "model_id": "9b7fbc1b555d4fa6a965adde7fad166a",
       "version_major": 2,
       "version_minor": 0
      },
      "text/plain": [
       "Downloading:   0%|          | 0.00/1.04M [00:00<?, ?B/s]"
      ]
     },
     "metadata": {},
     "output_type": "display_data"
    },
    {
     "data": {
      "application/vnd.jupyter.widget-view+json": {
       "model_id": "8f41beb7fefd4594ba285357eac68c0f",
       "version_major": 2,
       "version_minor": 0
      },
      "text/plain": [
       "Downloading:   0%|          | 0.00/456k [00:00<?, ?B/s]"
      ]
     },
     "metadata": {},
     "output_type": "display_data"
    },
    {
     "name": "stderr",
     "output_type": "stream",
     "text": [
      "Some weights of GPT2ForSequenceClassification were not initialized from the model checkpoint at gpt2 and are newly initialized: ['score.weight']\n",
      "You should probably TRAIN this model on a down-stream task to be able to use it for predictions and inference.\n"
     ]
    }
   ],
   "source": [
    "from transformers import GPT2ForSequenceClassification, GPT2Tokenizer\n",
    "\n",
    "# Define a padding token and save\n",
    "tokenizer = GPT2Tokenizer.from_pretrained(\"gpt2\")\n",
    "tokenizer.pad_token = tokenizer.eos_token\n",
    "tokenizer.save_pretrained(f\"models/gpt2-glue-tokenizer\")\n",
    "\n",
    "# Add padding to gpt2 in order to do GLUE task\n",
    "# num_labels=2 bc GLUE-mrpc is a binary classification dataset\n",
    "gpt2_glue = GPT2ForSequenceClassification.from_pretrained(\"gpt2\", num_labels=2)\n",
    "gpt2_glue.config.pad_token_id = tokenizer.pad_token_id\n",
    "# Save gpt2 model with padding\n",
    "gpt2_glue.save_pretrained(\"models/gpt2-glue\")\n",
    "\n",
    "for sparsity in SPARSITY_LIST:\n",
    "    model_to_prune = copy.deepcopy(gpt2_glue)\n",
    "    pruned_model = prune_weight_parameters(model_to_prune, sparsity)\n",
    "    pruned_model.save_pretrained(f\"models/gpt2-glue_{sparsity}\")"
   ]
  },
  {
   "cell_type": "code",
   "execution_count": null,
   "metadata": {},
   "outputs": [],
   "source": []
  }
 ],
 "metadata": {
  "kernelspec": {
   "display_name": "Python 3.8.8 ('base')",
   "language": "python",
   "name": "python3"
  },
  "language_info": {
   "codemirror_mode": {
    "name": "ipython",
    "version": 3
   },
   "file_extension": ".py",
   "mimetype": "text/x-python",
   "name": "python",
   "nbconvert_exporter": "python",
   "pygments_lexer": "ipython3",
   "version": "3.8.8"
  },
  "orig_nbformat": 4,
  "vscode": {
   "interpreter": {
    "hash": "40d3a090f54c6569ab1632332b64b2c03c39dcf918b08424e98f38b5ae0af88f"
   }
  }
 },
 "nbformat": 4,
 "nbformat_minor": 2
}
