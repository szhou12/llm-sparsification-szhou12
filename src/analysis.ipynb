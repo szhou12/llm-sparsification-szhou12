{
 "cells": [
  {
   "cell_type": "code",
   "execution_count": 1,
   "metadata": {},
   "outputs": [],
   "source": [
    "import torch\n",
    "import numpy as np\n",
    "import pandas as pd\n",
    "import matplotlib.pyplot as plt"
   ]
  },
  {
   "cell_type": "markdown",
   "metadata": {},
   "source": [
    "## Check sparsification"
   ]
  },
  {
   "cell_type": "code",
   "execution_count": 2,
   "metadata": {},
   "outputs": [],
   "source": [
    "def histogram_params(model, xscale, abs=True):\n",
    "    params = torch.cat([x.flatten() for x in model.parameters()]) # compress weights into 1-D\n",
    "\n",
    "    if abs:\n",
    "        params = torch.abs(params)\n",
    "\n",
    "    hist_values, bin_edges = torch.histogram(params, bins=300, range=xscale)\n",
    "    hist_values = hist_values.detach().numpy()\n",
    "    bin_edges = bin_edges.detach().numpy()\n",
    "    width = np.diff(bin_edges)\n",
    "    return (hist_values, bin_edges, width)\n",
    "\n",
    "def weights_dist_normal(model_name, model, save=True):\n",
    "    '''\n",
    "    plot disitribution of weights on nomal scale\n",
    "    '''\n",
    "    hist_values, bin_edges, width = histogram_params(model, (-1,1), abs=False)\n",
    "\n",
    "    plt.bar(bin_edges[:-1], hist_values, width)\n",
    "    plt.title(f'{model_name}: Distribution of Weights on Nomal Scale')\n",
    "    plt.xlabel(\"Weights\")\n",
    "    plt.ylabel(\"Counts\")\n",
    "    if save:\n",
    "        plt.savefig(f\"plots/{model_name}_weights_dist_normal.png\", dpi=199)\n",
    "    plt.show()\n",
    "\n",
    "\n",
    "def weights_dist_log(model_name, model, save=True):\n",
    "    '''\n",
    "    plot disitribution of weights on log scale\n",
    "    '''\n",
    "    hist_values, bin_edges, width = histogram_params(model, (0,1))\n",
    "\n",
    "    plt.bar(bin_edges[:-1], hist_values, width)\n",
    "    plt.xscale('log')\n",
    "    plt.title(f'{model_name}: Distribution of Weights on Log Scale')\n",
    "    plt.xlabel(\"Weights (Log of Absolute Value)\")\n",
    "    plt.ylabel(\"Counts\")\n",
    "    plt.vlines(x = 1e-2, ymin = 0, ymax = np.max(hist_values), colors = 'red')\n",
    "    plt.vlines(x = 1e-1, ymin = 0, ymax = np.max(hist_values), colors = 'red')\n",
    "    if save:\n",
    "        plt.savefig(f\"plots/{model_name}_weights_dist_log.png\", dpi=199)\n",
    "    plt.show()\n",
    "\n",
    "\n",
    "def sparsity_overall(model):\n",
    "    '''\n",
    "    Assess sparsity on overall structure\n",
    "    '''\n",
    "    thresholds = [1e-2, 1e-1]\n",
    "    params = torch.cat([x.flatten() for x in model.parameters()]) # compress weights into 1-D\n",
    "    abs_params = torch.abs(params).detach().numpy()\n",
    "\n",
    "    for thresold in thresholds:\n",
    "        counts = (abs_params < thresold).sum()\n",
    "        percent = round(counts/len(abs_params)*100, 2)\n",
    "        print(f'{percent}% of total weights < {thresold}')\n",
    "\n",
    "    percent = round((len(abs_params)-counts)/len(abs_params)*100, 2)\n",
    "    print(f'{percent}% of total weights >= {thresholds[-1]}')\n",
    "\n",
    "\n",
    "def sparsity_layers(model_name, module_list, save=True):\n",
    "    '''\n",
    "    Assess sparsity per layer and plot\n",
    "    '''\n",
    "    thresholds = [1e-2, 1e-1]\n",
    "    layers = []\n",
    "\n",
    "    for idx, layer in enumerate(module_list):\n",
    "        cur = [idx]\n",
    "\n",
    "        params = torch.cat([x.flatten() for x in layer.parameters()])\n",
    "        abs_params = torch.abs(params).detach().numpy()\n",
    "\n",
    "        counts = 0\n",
    "        \n",
    "        for thresold in thresholds:\n",
    "            counts = (abs_params < thresold).sum()\n",
    "            percent = round(counts/len(abs_params)*100, 2)\n",
    "            cur.append(percent)\n",
    "\n",
    "        percent = round((len(abs_params)-counts)/len(abs_params)*100, 2)\n",
    "        cur.append(percent)\n",
    "        layers.append(cur)\n",
    "        \n",
    "    df = pd.DataFrame(layers, columns=[\"layer\", \"below1e-2\", \"below1e-1\", \"above1e-1\"])\n",
    "    df['btw1e-2and1e-1'] = df['below1e-1'] - df['below1e-2']\n",
    "    df = df.drop(['layer', 'below1e-1'], axis=1)\n",
    "    df = df[['below1e-2', 'btw1e-2and1e-1', 'above1e-1']]\n",
    "    ax = df.plot.bar(xlabel=\"layer\", ylabel=\"percentage\", title=f\"{model_name}: Distribution of Weights by Layers\", stacked=True).legend(['w<0.01', '0.01<=w<0.1', 'w>=0.1'])\n",
    "    if save:\n",
    "        plt.savefig(f\"plots/{model_name}_weights_by_layers.png\", dpi=199)\n",
    "    plt.show()"
   ]
  },
  {
   "cell_type": "code",
   "execution_count": 15,
   "metadata": {},
   "outputs": [],
   "source": [
    "from transformers import GPT2Model, AutoModelForSequenceClassification\n",
    "# gpt2_model = GPT2Model.from_pretrained(\"gpt2\")\n",
    "model = AutoModelForSequenceClassification.from_pretrained(\"./models/gpt2-glue_0.5/\", num_labels=2)\n",
    "# model = AutoModelForSequenceClassification.from_pretrained(\"./models/gpt2-glue/\", num_labels=2)\n",
    "# model = AutoModelForSequenceClassification.from_pretrained(\"./models/bart_0.5/\", num_labels=2)"
   ]
  },
  {
   "cell_type": "code",
   "execution_count": 16,
   "metadata": {},
   "outputs": [
    {
     "data": {
      "image/png": "[encoded data removed]",
      "text/plain": [
       "<Figure size 432x288 with 1 Axes>"
      ]
     },
     "metadata": {
      "needs_background": "light"
     },
     "output_type": "display_data"
    }
   ],
   "source": [
    "weights_dist_normal(\"bart\", model, save=False)"
   ]
  },
  {
   "cell_type": "code",
   "execution_count": 14,
   "metadata": {},
   "outputs": [
    {
     "data": {
      "image/png": "[encoded data removed]",
      "text/plain": [
       "<Figure size 432x288 with 1 Axes>"
      ]
     },
     "metadata": {
      "needs_background": "light"
     },
     "output_type": "display_data"
    }
   ],
   "source": [
    "weights_dist_normal(\"bart\", model, save=False)"
   ]
  },
  {
   "cell_type": "code",
   "execution_count": null,
   "metadata": {},
   "outputs": [],
   "source": []
  }
 ],
 "metadata": {
  "kernelspec": {
   "display_name": "Python 3.8.8 ('base')",
   "language": "python",
   "name": "python3"
  },
  "language_info": {
   "codemirror_mode": {
    "name": "ipython",
    "version": 3
   },
   "file_extension": ".py",
   "mimetype": "text/x-python",
   "name": "python",
   "nbconvert_exporter": "python",
   "pygments_lexer": "ipython3",
   "version": "3.8.8"
  },
  "orig_nbformat": 4,
  "vscode": {
   "interpreter": {
    "hash": "40d3a090f54c6569ab1632332b64b2c03c39dcf918b08424e98f38b5ae0af88f"
   }
  }
 },
 "nbformat": 4,
 "nbformat_minor": 2
}
