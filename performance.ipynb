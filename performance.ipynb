{
 "cells": [
  {
   "cell_type": "code",
   "execution_count": 11,
   "metadata": {},
   "outputs": [],
   "source": [
    "import json\n",
    "import pandas as pd\n",
    "import numpy as np\n",
    "import matplotlib.pyplot as plt"
   ]
  },
  {
   "cell_type": "code",
   "execution_count": 16,
   "metadata": {},
   "outputs": [],
   "source": [
    "def loadJson(filename):\n",
    "    f = open(filename)\n",
    "    data = json.load(f)\n",
    "    f.close()\n",
    "    return data\n",
    "\n",
    "def getDataframe(benchmark):\n",
    "    model_names = [\"gpt2\", \"bart\", \"roberta\"]\n",
    "    sparsity = [0, 10, 50, 90, 95, 99]\n",
    "    model_runtime = [sparsity]\n",
    "    model_loss = [sparsity]\n",
    "    for model_name in model_names:\n",
    "        cur_runtime = []\n",
    "        cur_loss = []\n",
    "        for spar in sparsity:\n",
    "            filename = f'output/{benchmark}-{model_name}_{spar}.json'\n",
    "            data = loadJson(filename)\n",
    "            cur_runtime.append(data['train_runtime'])\n",
    "            cur_loss.append(data['train_loss'])\n",
    "        model_runtime.append(cur_runtime)\n",
    "        model_loss.append(cur_loss)\n",
    "    \n",
    "    df_runtime = pd.DataFrame(np.transpose(model_runtime), columns=[\"sparsity\", \"gpt2\", \"bart\", \"roberta\"])\n",
    "    df_loss = pd.DataFrame(np.transpose(model_loss), columns=[\"sparsity\", \"gpt2\", \"bart\", \"roberta\"])\n",
    "    \n",
    "    return (df_runtime, df_loss)\n",
    "    "
   ]
  },
  {
   "cell_type": "code",
   "execution_count": 19,
   "metadata": {},
   "outputs": [],
   "source": [
    "df_runtime, df_loss = getDataframe(benchmark=\"glue\")"
   ]
  },
  {
   "cell_type": "code",
   "execution_count": 20,
   "metadata": {},
   "outputs": [
    {
     "data": {
      "text/html": [
       "<div>\n",
       "<style scoped>\n",
       "    .dataframe tbody tr th:only-of-type {\n",
       "        vertical-align: middle;\n",
       "    }\n",
       "\n",
       "    .dataframe tbody tr th {\n",
       "        vertical-align: top;\n",
       "    }\n",
       "\n",
       "    .dataframe thead th {\n",
       "        text-align: right;\n",
       "    }\n",
       "</style>\n",
       "<table border=\"1\" class=\"dataframe\">\n",
       "  <thead>\n",
       "    <tr style=\"text-align: right;\">\n",
       "      <th></th>\n",
       "      <th>sparsity</th>\n",
       "      <th>gpt2</th>\n",
       "      <th>bart</th>\n",
       "      <th>roberta</th>\n",
       "    </tr>\n",
       "  </thead>\n",
       "  <tbody>\n",
       "    <tr>\n",
       "      <th>0</th>\n",
       "      <td>0.0</td>\n",
       "      <td>0.535908</td>\n",
       "      <td>0.380636</td>\n",
       "      <td>0.644338</td>\n",
       "    </tr>\n",
       "    <tr>\n",
       "      <th>1</th>\n",
       "      <td>10.0</td>\n",
       "      <td>0.559771</td>\n",
       "      <td>0.332676</td>\n",
       "      <td>0.644735</td>\n",
       "    </tr>\n",
       "    <tr>\n",
       "      <th>2</th>\n",
       "      <td>50.0</td>\n",
       "      <td>0.624674</td>\n",
       "      <td>0.641979</td>\n",
       "      <td>0.646664</td>\n",
       "    </tr>\n",
       "    <tr>\n",
       "      <th>3</th>\n",
       "      <td>90.0</td>\n",
       "      <td>0.633503</td>\n",
       "      <td>0.640251</td>\n",
       "      <td>0.639224</td>\n",
       "    </tr>\n",
       "    <tr>\n",
       "      <th>4</th>\n",
       "      <td>95.0</td>\n",
       "      <td>0.634119</td>\n",
       "      <td>0.639589</td>\n",
       "      <td>0.639764</td>\n",
       "    </tr>\n",
       "    <tr>\n",
       "      <th>5</th>\n",
       "      <td>99.0</td>\n",
       "      <td>0.635115</td>\n",
       "      <td>0.629594</td>\n",
       "      <td>0.636984</td>\n",
       "    </tr>\n",
       "  </tbody>\n",
       "</table>\n",
       "</div>"
      ],
      "text/plain": [
       "   sparsity      gpt2      bart   roberta\n",
       "0       0.0  0.535908  0.380636  0.644338\n",
       "1      10.0  0.559771  0.332676  0.644735\n",
       "2      50.0  0.624674  0.641979  0.646664\n",
       "3      90.0  0.633503  0.640251  0.639224\n",
       "4      95.0  0.634119  0.639589  0.639764\n",
       "5      99.0  0.635115  0.629594  0.636984"
      ]
     },
     "execution_count": 20,
     "metadata": {},
     "output_type": "execute_result"
    }
   ],
   "source": [
    "df_loss"
   ]
  },
  {
   "cell_type": "code",
   "execution_count": null,
   "metadata": {},
   "outputs": [],
   "source": []
  }
 ],
 "metadata": {
  "kernelspec": {
   "display_name": "Python 3.8.8 ('base')",
   "language": "python",
   "name": "python3"
  },
  "language_info": {
   "codemirror_mode": {
    "name": "ipython",
    "version": 3
   },
   "file_extension": ".py",
   "mimetype": "text/x-python",
   "name": "python",
   "nbconvert_exporter": "python",
   "pygments_lexer": "ipython3",
   "version": "3.8.8"
  },
  "orig_nbformat": 4,
  "vscode": {
   "interpreter": {
    "hash": "40d3a090f54c6569ab1632332b64b2c03c39dcf918b08424e98f38b5ae0af88f"
   }
  }
 },
 "nbformat": 4,
 "nbformat_minor": 2
}
